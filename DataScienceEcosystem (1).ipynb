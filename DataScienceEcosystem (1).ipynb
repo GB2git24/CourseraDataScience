{
 "cells": [
  {
   "cell_type": "markdown",
   "id": "0efbfdc4-3778-4706-a3af-66a222b42ae8",
   "metadata": {
    "tags": []
   },
   "source": [
    "# Data Science Tools and Ecosystem"
   ]
  },
  {
   "cell_type": "markdown",
   "id": "fd2eba10-8efd-4db0-9f21-314f7477a02f",
   "metadata": {},
   "source": [
    "In this notebook, Data Science Tools and Ecosystem are summarized. "
   ]
  },
  {
   "cell_type": "markdown",
   "id": "554cb8a5-74bd-4e00-b60b-de238da47fc7",
   "metadata": {},
   "source": [
    "**Objectives:**\n",
    "- Create a Jupyter Notebook\n",
    "- List popular languages for Data Science\n",
    "- List commonly used Data Science libraries\n",
    "- Create a Table listing Data Science Tools\n",
    "- Execute Markdown and code cells\n",
    "\n"
   ]
  },
  {
   "cell_type": "markdown",
   "id": "ace3b5dd-607d-416f-af17-b9f9f7a89b9d",
   "metadata": {},
   "source": [
    "Some of the popular languages that Data Scientists use are:"
   ]
  },
  {
   "cell_type": "markdown",
   "id": "f80f4f79-8a78-46b9-acfc-a8c8c393a657",
   "metadata": {},
   "source": [
    "1. Python\n",
    "2. R\n",
    "3. SQL"
   ]
  },
  {
   "cell_type": "markdown",
   "id": "9b55c505-46e1-4d8b-b6db-80552481e29e",
   "metadata": {},
   "source": [
    "Some of the commonly used libraries used by Data Scientists include:"
   ]
  },
  {
   "cell_type": "markdown",
   "id": "6acbee26-1ab5-4e6d-b6d3-9b30b01c21fa",
   "metadata": {},
   "source": [
    "1. Pandas\n",
    "2. Matplotlib\n",
    "3. Scikit-learn\n",
    "4. TensorFlow\n",
    "5. ApacheSpark\n",
    "6. Vegas\n"
   ]
  },
  {
   "cell_type": "markdown",
   "id": "60acd590-7ff3-4e19-b15b-3734dfff8fe5",
   "metadata": {},
   "source": [
    "| Data Science Tools |\n",
    "| ------------------ |\n",
    "| Jupyter |\n",
    "| RStudio |\n",
    "| Apache Spark |"
   ]
  },
  {
   "cell_type": "markdown",
   "id": "fce4cf92-1ef0-4a3d-9e54-8f0203177170",
   "metadata": {},
   "source": [
    "### Below are a few examples of evaluating arithmetic expressions in Python. "
   ]
  },
  {
   "cell_type": "code",
   "execution_count": 4,
   "id": "e2e41148-91e9-474d-a8a3-a08c1f8ece3e",
   "metadata": {
    "tags": []
   },
   "outputs": [
    {
     "data": {
      "text/plain": [
       "17"
      ]
     },
     "execution_count": 4,
     "metadata": {},
     "output_type": "execute_result"
    }
   ],
   "source": [
    "# This is a simple arithmetic expression to multiply then add integers\n",
    "(3*4)+5"
   ]
  },
  {
   "cell_type": "code",
   "execution_count": 5,
   "id": "480f8ee4-7255-4b89-871b-6d705e08c38e",
   "metadata": {
    "tags": []
   },
   "outputs": [
    {
     "data": {
      "text/plain": [
       "3.3333333333333335"
      ]
     },
     "execution_count": 5,
     "metadata": {},
     "output_type": "execute_result"
    }
   ],
   "source": [
    "# This will convert 200 minutes to hours by dividing by 60\n",
    "200/60"
   ]
  },
  {
   "cell_type": "markdown",
   "id": "8bdbab28-4168-4c5d-a2b2-9cebbf64060c",
   "metadata": {
    "tags": []
   },
   "source": [
    "## Author\n",
    "Garrett B."
   ]
  },
  {
   "cell_type": "code",
   "execution_count": null,
   "id": "54ca9564-3366-4640-a4f5-96144816c837",
   "metadata": {},
   "outputs": [],
   "source": []
  }
 ],
 "metadata": {
  "kernelspec": {
   "display_name": "Python",
   "language": "python",
   "name": "conda-env-python-py"
  },
  "language_info": {
   "codemirror_mode": {
    "name": "ipython",
    "version": 3
   },
   "file_extension": ".py",
   "mimetype": "text/x-python",
   "name": "python",
   "nbconvert_exporter": "python",
   "pygments_lexer": "ipython3",
   "version": "3.7.12"
  }
 },
 "nbformat": 4,
 "nbformat_minor": 5
}
